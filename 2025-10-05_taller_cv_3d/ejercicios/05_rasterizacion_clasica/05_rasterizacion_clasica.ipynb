{
  "cells": [
    {
      "cell_type": "markdown",
      "id": "4a9e56a0",
      "metadata": {
        "id": "4a9e56a0"
      },
      "source": [
        "# Ejercicio 5 — Rasterización desde Cero\n",
        "\n",
        "\n",
        "En este notebook implementamos desde cero tres algoritmos clásicos de rasterización:\n",
        "- Algoritmo de **Bresenham** para líneas.\n",
        "- Algoritmo de **Punto Medio** para círculos.\n",
        "- Algoritmo de **Scanline** para triángulos.\n",
        "\n",
        "📌 *Sin librerías gráficas de alto nivel (solo NumPy y Matplotlib).*"
      ]
    },
    {
      "cell_type": "markdown",
      "id": "ccc70fd4",
      "metadata": {
        "id": "ccc70fd4"
      },
      "source": [
        "## 1. Algoritmo de Bresenham — Líneas\n",
        "Este algoritmo permite dibujar líneas de forma eficiente usando solo operaciones enteras.\n",
        "\n",
        "**Idea básica:**\n",
        "- Se avanza paso a paso en la dirección X, calculando el error para decidir cuándo incrementar Y.\n",
        "- No se usan multiplicaciones o divisiones en cada paso.\n",
        "\n",
        "📈 Se utiliza comúnmente en dispositivos donde la eficiencia es clave (ej. primeros videojuegos, impresoras)."
      ]
    },
    {
      "cell_type": "code",
      "execution_count": 1,
      "id": "86ec38d7",
      "metadata": {
        "colab": {
          "base_uri": "https://localhost:8080/",
          "height": 452
        },
        "id": "86ec38d7",
        "outputId": "abe878a9-2a01-4032-d228-78312991dfea"
      },
      "outputs": [
        {
          "output_type": "display_data",
          "data": {
            "text/plain": [
              "<Figure size 640x480 with 1 Axes>"
            ],
            "image/png": "[encoded data removed]"
          },
          "metadata": {}
        }
      ],
      "source": [
        "\n",
        "import numpy as np\n",
        "import matplotlib.pyplot as plt\n",
        "\n",
        "def bresenham_line(x0, y0, x1, y1):\n",
        "    points = []\n",
        "    dx = abs(x1 - x0)\n",
        "    dy = abs(y1 - y0)\n",
        "    sx = 1 if x0 < x1 else -1\n",
        "    sy = 1 if y0 < y1 else -1\n",
        "    err = dx - dy\n",
        "\n",
        "    while True:\n",
        "        points.append((x0, y0))\n",
        "        if x0 == x1 and y0 == y1:\n",
        "            break\n",
        "        e2 = 2 * err\n",
        "        if e2 > -dy:\n",
        "            err -= dy\n",
        "            x0 += sx\n",
        "        if e2 < dx:\n",
        "            err += dx\n",
        "            y0 += sy\n",
        "    return points\n",
        "\n",
        "# Ejemplo de uso\n",
        "canvas = np.zeros((100, 100))\n",
        "for x, y in bresenham_line(10, 10, 80, 70):\n",
        "    canvas[y, x] = 1\n",
        "\n",
        "plt.imshow(canvas, cmap='gray', origin='lower')\n",
        "plt.title('Bresenham - Línea (10,10) a (80,70)')\n",
        "plt.show()\n"
      ]
    },
    {
      "cell_type": "markdown",
      "id": "1e8c9390",
      "metadata": {
        "id": "1e8c9390"
      },
      "source": [
        "## 2. Algoritmo de Punto Medio — Círculos\n",
        "Este algoritmo rasteriza un círculo aprovechando su **simetría octogonal**, calculando solo un octante y reflejando los puntos.\n",
        "\n",
        "**Idea básica:**\n",
        "- Se inicia en (0, r) y se avanza en x.\n",
        "- Se utiliza un parámetro de decisión `p` para determinar si el siguiente punto está dentro o fuera del círculo ideal.\n",
        "- Los puntos se reflejan en los 8 octantes para dibujar el círculo completo."
      ]
    },
    {
      "cell_type": "code",
      "execution_count": 2,
      "id": "0dbfaed8",
      "metadata": {
        "colab": {
          "base_uri": "https://localhost:8080/",
          "height": 452
        },
        "id": "0dbfaed8",
        "outputId": "28410e55-eac7-49aa-9cd1-ee6b72c85701"
      },
      "outputs": [
        {
          "output_type": "display_data",
          "data": {
            "text/plain": [
              "<Figure size 640x480 with 1 Axes>"
            ],
            "image/png": "[encoded data removed]"
          },
          "metadata": {}
        }
      ],
      "source": [
        "\n",
        "def midpoint_circle(cx, cy, r):\n",
        "    points = []\n",
        "    x = 0\n",
        "    y = r\n",
        "    p = 1 - r\n",
        "\n",
        "    def plot_circle_points(cx, cy, x, y):\n",
        "        return [\n",
        "            (cx + x, cy + y), (cx - x, cy + y),\n",
        "            (cx + x, cy - y), (cx - x, cy - y),\n",
        "            (cx + y, cy + x), (cx - y, cy + x),\n",
        "            (cx + y, cy - x), (cx - y, cy - x)\n",
        "        ]\n",
        "\n",
        "    while x <= y:\n",
        "        points.extend(plot_circle_points(cx, cy, x, y))\n",
        "        x += 1\n",
        "        if p < 0:\n",
        "            p += 2*x + 1\n",
        "        else:\n",
        "            y -= 1\n",
        "            p += 2*(x - y) + 1\n",
        "    return points\n",
        "\n",
        "# Ejemplo\n",
        "canvas = np.zeros((100, 100))\n",
        "for x, y in midpoint_circle(50, 50, 30):\n",
        "    if 0 <= x < canvas.shape[1] and 0 <= y < canvas.shape[0]:\n",
        "        canvas[y, x] = 1\n",
        "\n",
        "plt.imshow(canvas, cmap='gray', origin='lower')\n",
        "plt.title('Punto Medio - Círculo r=30')\n",
        "plt.show()\n"
      ]
    },
    {
      "cell_type": "markdown",
      "id": "1d7cd688",
      "metadata": {
        "id": "1d7cd688"
      },
      "source": [
        "## 3. Algoritmo de Scanline — Triángulos\n",
        "El algoritmo **Scanline** rellena un triángulo línea por línea (por filas de pixeles),\n",
        "intersectando las aristas con cada scanline horizontal.\n",
        "\n",
        "**Idea básica:**\n",
        "- Se ordenan los vértices por Y.\n",
        "- Para cada fila, se encuentran las intersecciones con los lados del triángulo.\n",
        "- Se rellenan los puntos entre las intersecciones izquierda y derecha."
      ]
    },
    {
      "cell_type": "code",
      "execution_count": 3,
      "id": "161f373b",
      "metadata": {
        "colab": {
          "base_uri": "https://localhost:8080/",
          "height": 453
        },
        "id": "161f373b",
        "outputId": "fccc003b-c442-46ff-b31e-e37d64ccfee6"
      },
      "outputs": [
        {
          "output_type": "display_data",
          "data": {
            "text/plain": [
              "<Figure size 640x480 with 1 Axes>"
            ],
            "image/png": "[encoded data removed]"
          },
          "metadata": {}
        }
      ],
      "source": [
        "\n",
        "def fill_triangle(p1, p2, p3, canvas):\n",
        "    # Ordenar vértices por Y\n",
        "    pts = sorted([p1, p2, p3], key=lambda p: p[1])\n",
        "    x1,y1 = pts[0]\n",
        "    x2,y2 = pts[1]\n",
        "    x3,y3 = pts[2]\n",
        "\n",
        "    def edge_interpolate(y, x0,y0, x1,y1):\n",
        "        if y1 == y0:\n",
        "            return x0\n",
        "        return x0 + (x1 - x0) * (y - y0) / (y1 - y0)\n",
        "\n",
        "    for y in range(int(y1), int(y3)+1):\n",
        "        if y < y2:\n",
        "            xa = edge_interpolate(y, x1,y1, x3,y3)\n",
        "            xb = edge_interpolate(y, x1,y1, x2,y2)\n",
        "        else:\n",
        "            xa = edge_interpolate(y, x1,y1, x3,y3)\n",
        "            xb = edge_interpolate(y, x2,y2, x3,y3)\n",
        "\n",
        "        if xa > xb:\n",
        "            xa, xb = xb, xa\n",
        "        for x in range(int(xa), int(xb)+1):\n",
        "            if 0 <= x < canvas.shape[1] and 0 <= y < canvas.shape[0]:\n",
        "                canvas[y, x] = 1\n",
        "\n",
        "# Ejemplo\n",
        "canvas = np.zeros((100, 100))\n",
        "fill_triangle((20,20), (80,30), (40,80), canvas)\n",
        "\n",
        "plt.imshow(canvas, cmap='gray', origin='lower')\n",
        "plt.title('Scanline - Triángulo')\n",
        "plt.show()\n"
      ]
    },
    {
      "cell_type": "markdown",
      "id": "f24aaa0d",
      "metadata": {
        "id": "f24aaa0d"
      },
      "source": [
        "## 4. Reflexión: Precisión y Eficiencia\n",
        "- **Bresenham**: muy eficiente, sólo usa enteros. Ideal para líneas con pendiente moderada.\n",
        "- **Punto Medio**: explota simetría, calcula sólo un octante → muy eficiente.\n",
        "- **Scanline**: más costoso pero rellena polígonos con precisión pixel-perfect.\n",
        "\n",
        "📝 *Estos algoritmos forman la base de la rasterización moderna usada en GPUs.*"
      ]
    }
  ],
  "metadata": {
    "colab": {
      "provenance": []
    },
    "language_info": {
      "name": "python"
    },
    "kernelspec": {
      "name": "python3",
      "display_name": "Python 3"
    }
  },
  "nbformat": 4,
  "nbformat_minor": 5
}